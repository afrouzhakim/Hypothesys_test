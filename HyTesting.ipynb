{
 "cells": [
  {
   "cell_type": "code",
   "execution_count": 108,
   "id": "bca64ff4",
   "metadata": {},
   "outputs": [],
   "source": [
    "import math\n",
    "import random \n",
    "import numpy as np\n",
    "import pandas as pd\n",
    "import matplotlib.pyplot as plt\n",
    "from scipy.stats import t, norm, ttest_1samp, f, f_oneway\n",
    "\n",
    "from scipy.stats import chi2\n",
    "\n",
    "import statsmodels.api as sm\n",
    "from statsmodels.formula.api import ols"
   ]
  },
  {
   "cell_type": "code",
   "execution_count": 95,
   "id": "9348d023",
   "metadata": {},
   "outputs": [],
   "source": [
    "class ZTest:\n",
    "    def __init__(self, sample, pop_mean, pop_std):\n",
    "        self.sample = sample\n",
    "        self.sample_mean = sample.mean()\n",
    "        self.pop_mean = pop_mean\n",
    "        self.pop_std = pop_std\n",
    "        \n",
    "    def Z_score(self, alpha=0.05):\n",
    "        z_score = (self.sample.mean() - self.pop_mean)/(self.pop_std/math.sqrt(self.sample.size))\n",
    "        p_value = 2 * (1-norm.cdf(abs(z_score)))\n",
    "        \n",
    "        if p_value > alpha:\n",
    "            print('Fail to reject H0 (Accept H0). The mean of the population is considered to be equal to', self.pop_mean)\n",
    "        else:\n",
    "            print('Reject H0 (Accept H1). The mean of the population is NOT equal to', self.pop_mean)\n"
   ]
  },
  {
   "cell_type": "code",
   "execution_count": 96,
   "id": "1e544e1d",
   "metadata": {},
   "outputs": [
    {
     "name": "stdout",
     "output_type": "stream",
     "text": [
      "Reject H0 (Accept H1). The mean of the population is NOT equal to 4.5\n"
     ]
    }
   ],
   "source": [
    "sample = np.array([4.18613688, 4.43860151, 4.78053989, 4.38801261, 4.94714259, 4.8528787,\n",
    " 4.88875992, 4.68165426, 4.42798665, 4.53260313, 4.55727267, 4.76126105,\n",
    " 4.49138963, 4.333771,   4.8295567,  4.26810296, 4.67983236, 4.43654222,\n",
    " 5.38207414, 5.11092259, 5.09641506, 5.23208847, 5.03342048, 5.56957311,\n",
    " 4.47390108, 4.7893098,  4.72459487, 4.84036066, 4.81666639, 4.43825881,\n",
    " 4.75351214, 4.96596792, 4.28500486, 4.48239589, 4.39598646, 4.41771026,\n",
    " 4.51422029, 5.38328062, 5.2636805,  4.3091652,  5.0583079,  4.39178018,\n",
    " 4.78803634, 4.93375277, 4.96726921, 4.55379975, 4.42004136, 4.9998488,\n",
    " 5.12604516, 5.08242965, 4.9436677,  4.65807828]).round(3)\n",
    "\n",
    "pop_mean = 4.5\n",
    "pop_std = 0.6\n",
    "\n",
    "# Create ZTest object\n",
    "z_test = ZTest(sample, pop_mean, pop_std)\n",
    "\n",
    "# Test the hypothesis with alpha=0.05\n",
    "z_test.Z_score()"
   ]
  },
  {
   "cell_type": "code",
   "execution_count": 103,
   "id": "7eee0e41",
   "metadata": {},
   "outputs": [],
   "source": [
    "class TTest:\n",
    "    def __init__(self, alpha = 0.05):\n",
    "        self.alpha = alpha\n",
    "        \n",
    "    def One_sample(self, sample, pop_mean):\n",
    "        df = sample.size-1\n",
    "        sample_mean = sample.mean()\n",
    "        sample_std = sample.std(ddof=1)\n",
    "                \n",
    "        t_statistic = round((sample_mean - pop_mean)/(sample_std/math.sqrt(sample.size)), 5)\n",
    "        p_value = round(2 * (1-t.cdf(abs(t_statistic), df)), 5)\n",
    "        \n",
    "        self.Check(t_statistic, p_value)\n",
    "        \n",
    "    def Two_sample(self, sample1, sample2):\n",
    "        n1 = sample1.size\n",
    "        n2 = sample2.size\n",
    "        df = n1 + n2 - 2\n",
    "        \n",
    "        mean1 = sample1.mean() \n",
    "        mean2 = sample2.mean()\n",
    "        \n",
    "        var1 = sample1.var(ddof=1)\n",
    "        var2 = sample2.var(ddof=1)\n",
    "\n",
    "        t_statistic = (mean1 - mean2)/math.sqrt((var1/n1)+(var2/n2))\n",
    "        p_value = round(2 * (1-t.cdf(abs(t_statistic), df)), 5)\n",
    "        \n",
    "        self.Check(t_statistic, p_value)\n",
    "        \n",
    "    def Paired(self, before, after, lazy=False):\n",
    "        n = before.size\n",
    "        df = n - 1\n",
    "        diff = after-before\n",
    "        \n",
    "        if lazy:\n",
    "            self.One_sample(diff, 0)\n",
    "        else:\n",
    "            print(diff)\n",
    "            std = diff.std(ddof=1)\n",
    "\n",
    "            t_statistic = diff.mean()/(std/math.sqrt(n))\n",
    "            p_value = round(2 * (1-t.cdf(abs(t_statistic), df)), 10)\n",
    "            self.Check(t_statistic, p_value)\n",
    "\n",
    "    def Check(self, t_statistic, p_value): \n",
    "        print(\"Test Statistic: \", t_statistic)\n",
    "        print(\"p-value: \", p_value)\n",
    "        if p_value > self.alpha:\n",
    "            print('Fail to reject H0')\n",
    "        else:\n",
    "            print('Reject H0 ') "
   ]
  },
  {
   "cell_type": "code",
   "execution_count": 99,
   "id": "910ce3f4",
   "metadata": {},
   "outputs": [
    {
     "name": "stdout",
     "output_type": "stream",
     "text": [
      "Test Statistic:  1.2661\n",
      "p-value:  0.21555\n",
      "Fail to reject H0\n"
     ]
    }
   ],
   "source": [
    "sample = np.array([14.8, 15.2, 15.1, 15.3, 15.0, 14.9, 15.2, 14.8, 15.1, 15.0, 14.9, 14.8, 15.2, \n",
    "                   14.9, 15.0, 14.9, 15.1, 15.3, 15.0, 15.1, 14.8, 15.0, 15.2, 15.1, 15.3, 15.1, \n",
    "                   15.0, 14.8, 15.2, 15.0])\n",
    "\n",
    "pop_mean = 15\n",
    "\n",
    "# Create T-Test object\n",
    "one_sample_test = TTest().One_sample(sample, pop_mean)"
   ]
  },
  {
   "cell_type": "code",
   "execution_count": 101,
   "id": "ebb56b3d",
   "metadata": {},
   "outputs": [
    {
     "name": "stdout",
     "output_type": "stream",
     "text": [
      "Test Statistic:  -2.6626213096882503\n",
      "p-value:  0.01131\n",
      "Reject H0 \n"
     ]
    }
   ],
   "source": [
    "New_flavor = np.array([8, 7, 9, 6, 7, 8, 9, 7, 8, 7, 6, 8, 7, 9, 8, 7, 6, 9, 8, 7])\n",
    "Old_flavor = np.array([6, 7, 8, 6, 7, 6, 7, 6, 8, 7, 6, 7, 6, 8, 7, 6, 7, 8, 6, 7])\n",
    "\n",
    "\n",
    "two_sample_test = TTest().Two_sample(Old_flavor, New_flavor)"
   ]
  },
  {
   "cell_type": "code",
   "execution_count": 104,
   "id": "45137e92",
   "metadata": {},
   "outputs": [
    {
     "name": "stdout",
     "output_type": "stream",
     "text": [
      "[3 2 3 3 2 2 2 2 2 2 3 3 3 3 3 2 2 2 2 2]\n",
      "Test Statistic:  21.354156504062622\n",
      "p-value:  0.0\n",
      "Reject H0 \n"
     ]
    }
   ],
   "source": [
    "Before = np.array([15, 18, 12, 10, 17, 16, 12, 14, 19, 18, 11, 13, 16, 17, 19, 14, 16, 13, 15, 12])\n",
    "After = np.array([18, 20, 15, 13, 19, 18, 14, 16, 21, 20, 14, 16, 19, 20, 22, 16, 18, 15, 17, 14])\n",
    "\n",
    "paired_sample_test = TTest().Paired(Before, After)"
   ]
  },
  {
   "cell_type": "markdown",
   "id": "1700bc3d",
   "metadata": {},
   "source": [
    "# ANOVA Test"
   ]
  },
  {
   "cell_type": "code",
   "execution_count": 105,
   "id": "96fa614d",
   "metadata": {},
   "outputs": [],
   "source": [
    "class Anova:\n",
    "    def __initi__(self, alpha=0.05):\n",
    "        pass\n",
    "    def One_way(self, categ):\n",
    "        k = categ.shape[0]\n",
    "        n_T = categ.size\n",
    "\n",
    "        mean = categ.mean(axis=1).mean().round(2)\n",
    "        \n",
    "        SS_B  = sum([cat.size*((cat.mean() - mean)**2) for cat in categ])\n",
    "        \n",
    "        df_B = k - 1\n",
    "        MS_B  = SS_B /df_B\n",
    "       \n",
    "        SS_W = sum([(cat.size - 1 ) * cat.var(ddof=1) for cat in groups])\n",
    "        \n",
    "        df_W = n_T - k\n",
    "        MS_W  = SS_W /df_W\n",
    "\n",
    "        TSS = SS_B + SS_B\n",
    "\n",
    "        F_statistic = MS_B / MS_W\n",
    "\n",
    "        p_value = 1 - f.cdf(F_statistic, df_B, df_W)\n",
    "\n",
    "        print('ANOVA using the formula')\n",
    "        print(\"MS B:\", MS_B)\n",
    "        print(\"MS W:\", MS_W)\n",
    "        print(\"F-statistic:\", F_statistic)\n",
    "        print(\"p-value:\", p_value)\n",
    "\n",
    "        if p_value < 0.05:\n",
    "            print('Reject the null hypothesis H0, There is one group mean different from the others')\n",
    "        else:\n",
    "            print('Fail to reject the null hypothesis, all the group means are equal')\n",
    "    def Two_way(self, df):\n",
    "        model = ols('height ~ C(water) + C(sun) + C(water):C(sun)', data=df).fit()#\n",
    "        return sm.stats.anova_lm(model, typ=2)"
   ]
  },
  {
   "cell_type": "code",
   "execution_count": 106,
   "id": "86beaead",
   "metadata": {},
   "outputs": [
    {
     "name": "stdout",
     "output_type": "stream",
     "text": [
      "ANOVA using the formula\n",
      "MS B: 10.066749999999999\n",
      "MS W: 1.9666666666666668\n",
      "F-statistic: 5.1186864406779655\n",
      "p-value: 0.024693724889743307\n",
      "Reject the null hypothesis H0, There is one group mean different from the others\n"
     ]
    },
    {
     "data": {
      "text/html": [
       "<div>\n",
       "<style scoped>\n",
       "    .dataframe tbody tr th:only-of-type {\n",
       "        vertical-align: middle;\n",
       "    }\n",
       "\n",
       "    .dataframe tbody tr th {\n",
       "        vertical-align: top;\n",
       "    }\n",
       "\n",
       "    .dataframe thead th {\n",
       "        text-align: right;\n",
       "    }\n",
       "</style>\n",
       "<table border=\"1\" class=\"dataframe\">\n",
       "  <thead>\n",
       "    <tr style=\"text-align: right;\">\n",
       "      <th></th>\n",
       "      <th>sum_sq</th>\n",
       "      <th>df</th>\n",
       "      <th>F</th>\n",
       "      <th>PR(&gt;F)</th>\n",
       "    </tr>\n",
       "  </thead>\n",
       "  <tbody>\n",
       "    <tr>\n",
       "      <th>C(water)</th>\n",
       "      <td>8.533333</td>\n",
       "      <td>1.0</td>\n",
       "      <td>16.0000</td>\n",
       "      <td>0.000527</td>\n",
       "    </tr>\n",
       "    <tr>\n",
       "      <th>C(sun)</th>\n",
       "      <td>24.866667</td>\n",
       "      <td>2.0</td>\n",
       "      <td>23.3125</td>\n",
       "      <td>0.000002</td>\n",
       "    </tr>\n",
       "    <tr>\n",
       "      <th>C(water):C(sun)</th>\n",
       "      <td>2.466667</td>\n",
       "      <td>2.0</td>\n",
       "      <td>2.3125</td>\n",
       "      <td>0.120667</td>\n",
       "    </tr>\n",
       "    <tr>\n",
       "      <th>Residual</th>\n",
       "      <td>12.800000</td>\n",
       "      <td>24.0</td>\n",
       "      <td>NaN</td>\n",
       "      <td>NaN</td>\n",
       "    </tr>\n",
       "  </tbody>\n",
       "</table>\n",
       "</div>"
      ],
      "text/plain": [
       "                    sum_sq    df        F    PR(>F)\n",
       "C(water)          8.533333   1.0  16.0000  0.000527\n",
       "C(sun)           24.866667   2.0  23.3125  0.000002\n",
       "C(water):C(sun)   2.466667   2.0   2.3125  0.120667\n",
       "Residual         12.800000  24.0      NaN       NaN"
      ]
     },
     "execution_count": 106,
     "metadata": {},
     "output_type": "execute_result"
    }
   ],
   "source": [
    "groups = np.array([[3, 2, 1, 1, 4],\n",
    "                   [5, 2, 4, 2, 3],\n",
    "                   [7, 4, 5, 3, 6]])\n",
    "\n",
    "Anova().One_way(groups)\n",
    "\n",
    "df = pd.DataFrame({'water': np.repeat(['daily', 'weekly'], 15),\n",
    "                   'sun': np.tile(np.repeat(['low', 'med', 'high'], 5), 2),\n",
    "                   'height': [6, 6, 6, 5, 6, 5, 5, 6, 4, 5,\n",
    "                              6, 6, 7, 8, 7, 3, 4, 4, 4, 5,\n",
    "                              4, 4, 4, 4, 4, 5, 6, 6, 7, 8]})\n",
    "\n",
    "Anova().Two_way(df)"
   ]
  },
  {
   "cell_type": "code",
   "execution_count": 107,
   "id": "681e8b02",
   "metadata": {},
   "outputs": [],
   "source": [
    "class ChiSquare:\n",
    "    def __init__(self, alpha=0.05):\n",
    "        self.alpha = alpha\n",
    "       \n",
    "    def calculate_statistic(self, observed_freq, expected_prob):\n",
    "        df = observed_frequencies.size - 1\n",
    "        expected_freq = expected_freq = expected_probabilities * np.sum(observed_freq)\n",
    "        \n",
    "        chi_square_statistic = np.sum((observed_freq - expected_freq)**2 / expected_freq)\n",
    "        p_value = 1 - chi2.cdf(chi_square_statistic, df)\n",
    "    \n",
    "        if p_value < self.alpha:\n",
    "            print(\"Reject null hypothesis\")\n",
    "        else:\n",
    "            print(\"Fail to reject null hypothesis\")\n",
    "    "
   ]
  },
  {
   "cell_type": "code",
   "execution_count": 43,
   "id": "c092295f",
   "metadata": {},
   "outputs": [
    {
     "name": "stdout",
     "output_type": "stream",
     "text": [
      "Fail to reject null hypothesis\n"
     ]
    }
   ],
   "source": [
    "# Define observed frequencies\n",
    "observed_freq = np.array([18, 20, 16, 22, 14, 10])\n",
    "\n",
    "# Define expected probabilities under the null hypothesis of a fair die\n",
    "expected_prob = np.array([1/6]*6)\n",
    "\n",
    "ChiSquare().calculate_statistic(observed_freq, expected_prob)\n",
    "\n",
    "# \"Fail to reject null hypothesis\", indicating that there is insufficient evidence to reject the null hypothesis that the die is fair."
   ]
  },
  {
   "cell_type": "code",
   "execution_count": 109,
   "id": "6fc042d7",
   "metadata": {},
   "outputs": [],
   "source": [
    "class ABTest:\n",
    "    def __init__(self, alpha=0.05):\n",
    "        self.alpha = alpha\n",
    "    \n",
    "    def t_statistic(self, control, treatment):\n",
    "        n1 = control.size\n",
    "        n2 = treatment.size\n",
    "        \n",
    "        df = n1+n2-2\n",
    "\n",
    "        mean_control = np.mean(control)\n",
    "        mean_treatment = np.mean(treatment)\n",
    "        \n",
    "        var_control = np.var(control, ddof=1)\n",
    "        var_treatment = np.var(treatment, ddof=1)\n",
    "        \n",
    "        pooled_var = ((n1 - 1) * var_control + (n2 - 1) * var_treatment) / df\n",
    "        se_difference = np.sqrt(pooled_var * (1/n1 + 1/n2))\n",
    "        t_statistic = (mean_treatment - mean_control) / se_difference\n",
    "\n",
    "        p_value = 1 - t.cdf(t_statistic, df)\n",
    "    \n",
    "        if p_value < self.alpha:\n",
    "            print(\"Reject null hypothesis\")\n",
    "        else:\n",
    "            print(\"Fail to reject null hypothesis\")"
   ]
  },
  {
   "cell_type": "code",
   "execution_count": 110,
   "id": "237f169a",
   "metadata": {},
   "outputs": [
    {
     "name": "stdout",
     "output_type": "stream",
     "text": [
      "Reject null hypothesis\n"
     ]
    }
   ],
   "source": [
    "New_flavor = np.array([8, 9, 7, 8, 9, 6, 7, 8, 7, 8, 7, 8, 9, 6, 8])\n",
    "Old_flavor = np.array([6, 7, 8, 5, 6, 7, 5, 8, 6, 7, 5, 6, 7, 6, 5])\n",
    "\n",
    "AB_Test = ABTest().t_statistic(Old_flavor, New_flavor)"
   ]
  }
 ],
 "metadata": {
  "kernelspec": {
   "display_name": "Python 3 (ipykernel)",
   "language": "python",
   "name": "python3"
  },
  "language_info": {
   "codemirror_mode": {
    "name": "ipython",
    "version": 3
   },
   "file_extension": ".py",
   "mimetype": "text/x-python",
   "name": "python",
   "nbconvert_exporter": "python",
   "pygments_lexer": "ipython3",
   "version": "3.10.7"
  }
 },
 "nbformat": 4,
 "nbformat_minor": 5
}
